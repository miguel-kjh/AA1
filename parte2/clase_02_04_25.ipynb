{
 "cells": [
  {
   "cell_type": "markdown",
   "metadata": {},
   "source": [
    "# Práctica 8 - Clasificador por K vecinos más cercanos 2024-25"
   ]
  },
  {
   "cell_type": "markdown",
   "metadata": {},
   "source": [
    "El clasificador por vecinos más cercanos, **KNearestNeighbor**, pertenece a un grupo de métodos denominados perezosos (*lazy leaners*) ya que son métodos que en la fase de aprendizaje se limitan a almacenar las muestras de entrenamiento sin ningún proceso de generalización. La clasificación se realiza buscando la muestra del conjunto de entrenamiento más cercana a la de muestra a clasificar, y asignándole a esta última la clase a la que pertenece la más cercana . \n",
    "\n",
    "En su versión más simple, la clasificación de una muestra implica el cálculo de la distancia a todas las muestras de entrenamiento, para luego encontrar la más próxima. Esta sería la clasificación por el vecino más cercano. Sin embargo para evitar el efecto del ruido en las muestras, se puede utilizar en lugar de la muestra más cercana, las **k** muestras más cercanas y decidir la clase por mayoría. Es decir, que a la muestra a clasificar se le asigna la clase que es mayoritaria entre las *k* muestras más cercanas del conjunto de entrenamiento."
   ]
  },
  {
   "cell_type": "markdown",
   "metadata": {},
   "source": [
    "## Clasficación por el vecino más cercano"
   ]
  },
  {
   "cell_type": "code",
   "execution_count": 3,
   "metadata": {},
   "outputs": [],
   "source": [
    "from sklearn.datasets import make_blobs\n",
    "from scipy.spatial.distance import euclidean # for distance calculation \"euclidean\"\n",
    "import matplotlib.pyplot as plt\n",
    "import numpy as np"
   ]
  },
  {
   "cell_type": "markdown",
   "metadata": {},
   "source": [
    "Puedes utilizar euclidean distance con scipy una libreria o hacerlo a mano. En este caso, lo haremos a mano. \n",
    "\n",
    "```python\n",
    "import numpy as np\n",
    "\n",
    "def euclidean_distance(a, b):\n",
    "    return np.sqrt(np.sum((a - b) ** 2))\n",
    "```"
   ]
  },
  {
   "cell_type": "markdown",
   "metadata": {},
   "source": [
    "Generar conjunto de train con 10 muestras, y el de test con 2 muestras sin clase."
   ]
  },
  {
   "cell_type": "code",
   "execution_count": 4,
   "metadata": {},
   "outputs": [
    {
     "data": {
      "image/png": "[encoded data removed]",
      "text/plain": [
       "<Figure size 640x480 with 1 Axes>"
      ]
     },
     "metadata": {},
     "output_type": "display_data"
    }
   ],
   "source": [
    "X_train, y_train = make_blobs(n_samples=10, n_features=2, centers=[(0,0), (2,2)], random_state=42) # training points\n",
    "X_test, _ = make_blobs(n_samples=2, n_features=2, centers=[(0,0), (2,2)], random_state=12) # test points\n",
    "\n",
    "plt.scatter(X_train[y_train==0, 0], X_train[y_train==0, 1], c='blue') # training points\n",
    "plt.scatter(X_train[y_train==1, 0], X_train[y_train==1, 1], c='red') # training points\n",
    "\n",
    "plt.scatter(X_test[:, 0], X_test[:, 1], c='black', marker='+') # test points\n",
    "plt.grid()\n"
   ]
  },
  {
   "cell_type": "markdown",
   "metadata": {},
   "source": [
    "Calcular distancias a las muestras con indicación de la clase a la que pertenece cada muestra existente."
   ]
  },
  {
   "cell_type": "code",
   "execution_count": null,
   "metadata": {},
   "outputs": [
    {
     "name": "stdout",
     "output_type": "stream",
     "text": [
      "Muestra desconocida: [2.2424395  0.29926437]\n",
      "Distancia a [0.64768854 1.52302986] (clase 0): 2.010182229433554\n",
      "Distancia a [0.98716888 2.31424733] (clase 1): 2.373996772910537\n",
      "Distancia a [0.27508217 1.43771247] (clase 1): 2.273006587779162\n",
      "Distancia a [1.53658231 1.53427025] (clase 1): 1.4224886279909987\n",
      "Distancia a [-0.46947439  0.54256004] (clase 0): 2.72280548213184\n",
      "Distancia a [1.09197592 0.5876963 ] (clase 1): 1.1860688895628664\n",
      "Distancia a [ 0.49671415 -0.1382643 ] (clase 0): 1.7997189530943631\n",
      "Distancia a [1.57921282 0.76743473] (clase 0): 0.8118208666964342\n",
      "Distancia a [2.24196227 0.08671976] (clase 1): 0.21254514637412916\n",
      "Distancia a [-0.23415337 -0.23413696] (clase 0): 2.5333829600004742\n",
      "---\n",
      "Muestra desconocida: [ 0.47298583 -0.68142588]\n",
      "Distancia a [0.64768854 1.52302986] (clase 0): 2.21136747896136\n",
      "Distancia a [0.98716888 2.31424733] (clase 1): 3.0394805806804492\n",
      "Distancia a [0.27508217 1.43771247] (clase 1): 2.1283592759465497\n",
      "Distancia a [1.53658231 1.53427025] (clase 1): 2.457752384864675\n",
      "Distancia a [-0.46947439  0.54256004] (clase 0): 1.5447889180056324\n",
      "Distancia a [1.09197592 0.5876963 ] (clase 1): 1.4120268546221515\n",
      "Distancia a [ 0.49671415 -0.1382643 ] (clase 0): 0.5436796238126674\n",
      "Distancia a [1.57921282 0.76743473] (clase 0): 1.8228919889282706\n",
      "Distancia a [2.24196227 0.08671976] (clase 1): 1.928555252456681\n",
      "Distancia a [-0.23415337 -0.23413696] (clase 0): 0.8367276959360788\n"
     ]
    }
   ],
   "source": [
    "from time import sleep\n",
    "\n",
    "\n",
    "X_tmp = X_test[0]\n",
    "print('Muestra desconocida:', X_tmp)\n",
    "for i in range(X_train.shape[0]): # por cada muestra de entrenamiento\n",
    "    distancia = euclidean(X_tmp, X_train[i]) # calcular la distancia euclidiana\n",
    "    print(f'Distancia a {X_train[i]} (clase {y_train[i]}): {distancia}')\n",
    "    sleep(1)\n",
    "\n",
    "print('---')\n",
    "X_tmp = X_test[1]\n",
    "print('Muestra desconocida:', X_tmp)\n",
    "for i in range(X_train.shape[0]):\n",
    "    distancia = euclidean(X_tmp, X_train[i])\n",
    "    print(f'Distancia a {X_train[i]} (clase {y_train[i]}): {distancia}')\n",
    "    sleep(1)"
   ]
  },
  {
   "cell_type": "markdown",
   "metadata": {},
   "source": [
    "Un version más optimizada y generalizada sería:"
   ]
  },
  {
   "cell_type": "code",
   "execution_count": 6,
   "metadata": {},
   "outputs": [
    {
     "name": "stdout",
     "output_type": "stream",
     "text": [
      "Muestra desconocida 0: [2.2424395  0.29926437]\n",
      "Clase: 1\n",
      "Muestra desconocida 1: [ 0.47298583 -0.68142588]\n",
      "Clase: 0\n"
     ]
    }
   ],
   "source": [
    "distancias = np.zeros(X_train.shape[0]) # vector para almacenar distancias\n",
    "\n",
    "for idx_test in range(X_test.shape[0]):\n",
    "\n",
    "    X_tmp = X_test[idx_test]            \n",
    "    print(f'Muestra desconocida {idx_test}: {X_tmp}')\n",
    "\n",
    "    for idx_train in range(X_train.shape[0]):\n",
    "        distancias[idx_train] = euclidean(X_tmp, X_train[idx_train])\n",
    "\n",
    "    pos_min = np.argmin(distancias)\n",
    "    print(f'Clase: {y_train[pos_min]}')"
   ]
  },
  {
   "cell_type": "markdown",
   "metadata": {},
   "source": [
    "El algoritmo de clasificación por el vecino más cercano es el siguiente:\n",
    "\n",
    "1. Para cada muestra de test:\n",
    "    1. Calcular la distancia a todas las muestras de train.\n",
    "    2. Encontrar la muestra más cercana.\n",
    "    3. Asignar la clase de la muestra más cercana a la muestra de test.\n",
    "\n",
    "En pseudocódigo:\n",
    "```python\n",
    "Entrada:\n",
    "    - dataset_entrenamiento: lista de puntos con sus etiquetas (x, y)\n",
    "    - punto_consulta: punto nuevo a clasificar\n",
    "    - k: número de vecinos más cercanos\n",
    "    - distancia: función de distancia (por ejemplo, Euclidiana)\n",
    "\n",
    "Proceso:\n",
    "    1. Para cada punto (x_entrenado, y_entrenado) en dataset_entrenamiento:\n",
    "           calcular distancia entre punto_consulta y x_entrenado\n",
    "           guardar (distancia, y_entrenado) en una lista\n",
    "\n",
    "    2. Ordenar la lista por distancia ascendente\n",
    "\n",
    "    3. Tomar las k primeras etiquetas de la lista ordenada\n",
    "\n",
    "    4. Realizar una votación entre las k etiquetas:\n",
    "           contar cuántas veces aparece cada clase\n",
    "           seleccionar la clase con más votos\n",
    "\n",
    "Salida:\n",
    "    - clase_predicha: la clase con más votos entre los k vecinos más cercanos\n",
    "\n",
    "```"
   ]
  },
  {
   "cell_type": "markdown",
   "metadata": {},
   "source": [
    "## Clasificación vecinos más cercanos\n",
    "\n",
    "Clase KNeighborsClassifier definida en el módulo neighbors de la librería sklearn. Entre los parámetros de la clase cabe destacar n_neighbors que define el número de vecinos a utilizar para la clasificación. Entre los métodos que implementa la clase además de los ya utilizados fit y predict, se implementa el método kneighbors que devuelve la distancia y el índice de los k vecinos más próximos del conjunto de entrenamiento a una muestra dada.\n"
   ]
  },
  {
   "cell_type": "code",
   "execution_count": 7,
   "metadata": {},
   "outputs": [],
   "source": [
    "from sklearn.neighbors import KNeighborsClassifier\n",
    "from sklearn.model_selection import train_test_split\n",
    "from sklearn.metrics import accuracy_score\n",
    "from sklearn.preprocessing import MinMaxScaler, StandardScaler\n",
    "from time import time\n",
    "import pandas as pd"
   ]
  },
  {
   "cell_type": "markdown",
   "metadata": {},
   "source": [
    "Leer muestas de train y test"
   ]
  },
  {
   "cell_type": "code",
   "execution_count": 8,
   "metadata": {},
   "outputs": [
    {
     "name": "stdout",
     "output_type": "stream",
     "text": [
      "Train set:\n",
      "     x1   x2  clase\n",
      "0   1.4  1.2      0\n",
      "1  -0.1 -0.7      0\n",
      "2  -0.4 -0.2      0\n",
      "3   3.4 -0.1      1\n",
      "4   0.3  1.8      0\n",
      "5   3.4 -2.2      1\n",
      "6   1.8 -0.2      1\n",
      "7   4.2  0.1      1\n",
      "8   4.3 -1.3      1\n",
      "9   4.4  1.8      1\n",
      "10  3.8  0.3      1\n",
      "11  4.7  0.2      1\n",
      "12  4.1 -0.4      1\n",
      "13  4.9 -2.5      1\n",
      "14 -0.6  0.9      0\n",
      "15 -0.5 -2.1      0\n",
      "16 -1.8  0.6      0\n",
      "17  2.7  1.2      0\n",
      "18 -0.3 -0.1      0\n",
      "19  0.4  0.3      0\n",
      "Test set:\n",
      "    x1   x2  clase\n",
      "0  1.5 -0.4      0\n",
      "1 -0.5  1.6      0\n",
      "2  0.2 -1.5      0\n",
      "3  5.2 -0.8      1\n",
      "4  3.3 -0.1      1\n",
      "5 -1.0  0.9      0\n",
      "6  2.5  1.2      1\n"
     ]
    }
   ],
   "source": [
    "df_train = pd.read_csv('datos/datos8-train.csv')\n",
    "df_test = pd.read_csv('datos/datos8-test.csv')\n",
    "\n",
    "X_train = df_train.values[:,:-1]\n",
    "y_train = df_train.values[:,-1]\n",
    "\n",
    "X_test = df_test.values[:,:-1]\n",
    "y_test = df_test.values[:,-1]\n",
    "\n",
    "print('Train set:')\n",
    "print(df_train)\n",
    "\n",
    "print('Test set:')\n",
    "print(df_test)"
   ]
  },
  {
   "cell_type": "markdown",
   "metadata": {},
   "source": [
    "Dibujar muestras"
   ]
  },
  {
   "cell_type": "code",
   "execution_count": 9,
   "metadata": {},
   "outputs": [
    {
     "data": {
      "image/png": "[encoded data removed]",
      "text/plain": [
       "<Figure size 640x480 with 1 Axes>"
      ]
     },
     "metadata": {},
     "output_type": "display_data"
    }
   ],
   "source": [
    "plt.scatter(X_train[y_train==0, 0], X_train[y_train==0, 1], c='b')\n",
    "plt.scatter(X_train[y_train==1, 0], X_train[y_train==1, 1], c='r')\n",
    "\n",
    "plt.scatter(X_test[y_test==0, 0], X_test[y_test==0, 1], c='black', marker='+')\n",
    "plt.scatter(X_test[y_test==1, 0], X_test[y_test==1, 1], c='black', marker='+')\n",
    "\n",
    "plt.grid()\n",
    "plt.show()"
   ]
  },
  {
   "cell_type": "markdown",
   "metadata": {},
   "source": [
    "Ver que muestras son las que se clasifican mal para comprobar cómo afecta el número de vecinos al resultado. Ir cambiando de 1 a 10. Analizar el número de vecinos para explicar el cambio de clasificación a medida que van cambiando."
   ]
  },
  {
   "cell_type": "code",
   "execution_count": 10,
   "metadata": {},
   "outputs": [
    {
     "name": "stdout",
     "output_type": "stream",
     "text": [
      "y_pred: [1. 0. 0. 1. 1. 0. 0.]\n",
      "y_test: [0. 0. 0. 1. 1. 0. 1.]\n"
     ]
    }
   ],
   "source": [
    "K = 1\n",
    "knn = KNeighborsClassifier(n_neighbors=K, metric='euclidean')\n",
    "\n",
    "knn.fit(X_train, y_train)\n",
    "y_pred = knn.predict(X_test)\n",
    "print('y_pred:', y_pred)\n",
    "print('y_test:', y_test)"
   ]
  },
  {
   "cell_type": "markdown",
   "metadata": {},
   "source": [
    "Con K=1 Las muestras que se clasifican incorrectamente son la primera y la última"
   ]
  },
  {
   "cell_type": "code",
   "execution_count": 11,
   "metadata": {},
   "outputs": [
    {
     "data": {
      "image/png": "[encoded data removed]",
      "text/plain": [
       "<Figure size 1200x500 with 2 Axes>"
      ]
     },
     "metadata": {},
     "output_type": "display_data"
    }
   ],
   "source": [
    "import matplotlib.pyplot as plt\n",
    "\n",
    "fig, axes = plt.subplots(1, 2, figsize=(12, 5))\n",
    "\n",
    "# --- Subplot 1: KNN Prediction ---\n",
    "axes[0].scatter(X_train[y_train==0, 0], X_train[y_train==0, 1], c='b')\n",
    "axes[0].scatter(X_train[y_train==1, 0], X_train[y_train==1, 1], c='r')\n",
    "\n",
    "axes[0].scatter(X_test[y_pred==0, 0], X_test[y_pred==0, 1], c='b', marker='+')\n",
    "axes[0].scatter(X_test[y_pred==1, 0], X_test[y_pred==1, 1], c='r', marker='+')\n",
    "\n",
    "axes[0].set_title(f\"k-NN Prediction (k={K}) - euclidean\")\n",
    "axes[0].grid()\n",
    "\n",
    "# --- Subplot 2: Ground Truth ---\n",
    "axes[1].scatter(X_train[y_train==0, 0], X_train[y_train==0, 1], c='b')\n",
    "axes[1].scatter(X_train[y_train==1, 0], X_train[y_train==1, 1], c='r')\n",
    "\n",
    "axes[1].scatter(X_test[y_test==0, 0], X_test[y_test==0, 1], c='b', marker='+')\n",
    "axes[1].scatter(X_test[y_test==1, 0], X_test[y_test==1, 1], c='r', marker='+')\n",
    "\n",
    "axes[1].set_title(\"Ground Truth\")\n",
    "axes[1].grid()\n",
    "\n",
    "plt.tight_layout()\n",
    "plt.show()\n"
   ]
  },
  {
   "cell_type": "markdown",
   "metadata": {},
   "source": [
    "## Resultados con datos reales\n",
    "\n",
    "Utilizar el conjunto de datos \"precio_casas_clasificacion.csv\" que se corresponde con el utilizado en la práctica de regresión pero en lugar de estimar el precio de la casa, en este caso las casas pertenecen a cinco categorías diferentes según el precio: 'muy alto', 'alto', 'promedio', 'bajo', 'muy bajo'"
   ]
  },
  {
   "cell_type": "markdown",
   "metadata": {},
   "source": [
    "**Ejercicio de clase**\n",
    "\n",
    "Estimar la exactitud del precio de las casas usando el conjunto de datos \"precio_casas_clasificación.csv\" utilizando KNN y estudiar para distintos valores de k. "
   ]
  },
  {
   "cell_type": "code",
   "execution_count": 30,
   "metadata": {},
   "outputs": [],
   "source": [
    "df = pd.read_csv('datos/precio_casas_clasificacion.csv')\n",
    "X = df.iloc[:, :-1].values\n",
    "y = df.iloc[:, -1].values\n"
   ]
  },
  {
   "cell_type": "code",
   "execution_count": 31,
   "metadata": {},
   "outputs": [
    {
     "data": {
      "text/html": [
       "<div>\n",
       "<style scoped>\n",
       "    .dataframe tbody tr th:only-of-type {\n",
       "        vertical-align: middle;\n",
       "    }\n",
       "\n",
       "    .dataframe tbody tr th {\n",
       "        vertical-align: top;\n",
       "    }\n",
       "\n",
       "    .dataframe thead th {\n",
       "        text-align: right;\n",
       "    }\n",
       "</style>\n",
       "<table border=\"1\" class=\"dataframe\">\n",
       "  <thead>\n",
       "    <tr style=\"text-align: right;\">\n",
       "      <th></th>\n",
       "      <th>Mediana ingresos</th>\n",
       "      <th>Mediana antiguedad</th>\n",
       "      <th>Num. hab. promedio</th>\n",
       "      <th>Num. dorm. promedio</th>\n",
       "      <th>Poblacion</th>\n",
       "      <th>Ocup. promedio</th>\n",
       "      <th>Latitud</th>\n",
       "      <th>Longitud</th>\n",
       "    </tr>\n",
       "  </thead>\n",
       "  <tbody>\n",
       "    <tr>\n",
       "      <th>count</th>\n",
       "      <td>20640.000000</td>\n",
       "      <td>20640.000000</td>\n",
       "      <td>20640.000000</td>\n",
       "      <td>20640.000000</td>\n",
       "      <td>20640.000000</td>\n",
       "      <td>20640.000000</td>\n",
       "      <td>20640.000000</td>\n",
       "      <td>20640.000000</td>\n",
       "    </tr>\n",
       "    <tr>\n",
       "      <th>mean</th>\n",
       "      <td>3.870671</td>\n",
       "      <td>28.639486</td>\n",
       "      <td>5.429000</td>\n",
       "      <td>1.096675</td>\n",
       "      <td>1425.476744</td>\n",
       "      <td>3.070655</td>\n",
       "      <td>35.631861</td>\n",
       "      <td>-119.569704</td>\n",
       "    </tr>\n",
       "    <tr>\n",
       "      <th>std</th>\n",
       "      <td>1.899822</td>\n",
       "      <td>12.585558</td>\n",
       "      <td>2.474173</td>\n",
       "      <td>0.473911</td>\n",
       "      <td>1132.462122</td>\n",
       "      <td>10.386050</td>\n",
       "      <td>2.135952</td>\n",
       "      <td>2.003532</td>\n",
       "    </tr>\n",
       "    <tr>\n",
       "      <th>min</th>\n",
       "      <td>0.499900</td>\n",
       "      <td>1.000000</td>\n",
       "      <td>0.846154</td>\n",
       "      <td>0.333333</td>\n",
       "      <td>3.000000</td>\n",
       "      <td>0.692308</td>\n",
       "      <td>32.540000</td>\n",
       "      <td>-124.350000</td>\n",
       "    </tr>\n",
       "    <tr>\n",
       "      <th>25%</th>\n",
       "      <td>2.563400</td>\n",
       "      <td>18.000000</td>\n",
       "      <td>4.440716</td>\n",
       "      <td>1.006079</td>\n",
       "      <td>787.000000</td>\n",
       "      <td>2.429741</td>\n",
       "      <td>33.930000</td>\n",
       "      <td>-121.800000</td>\n",
       "    </tr>\n",
       "    <tr>\n",
       "      <th>50%</th>\n",
       "      <td>3.534800</td>\n",
       "      <td>29.000000</td>\n",
       "      <td>5.229129</td>\n",
       "      <td>1.048780</td>\n",
       "      <td>1166.000000</td>\n",
       "      <td>2.818116</td>\n",
       "      <td>34.260000</td>\n",
       "      <td>-118.490000</td>\n",
       "    </tr>\n",
       "    <tr>\n",
       "      <th>75%</th>\n",
       "      <td>4.743250</td>\n",
       "      <td>37.000000</td>\n",
       "      <td>6.052381</td>\n",
       "      <td>1.099526</td>\n",
       "      <td>1725.000000</td>\n",
       "      <td>3.282261</td>\n",
       "      <td>37.710000</td>\n",
       "      <td>-118.010000</td>\n",
       "    </tr>\n",
       "    <tr>\n",
       "      <th>max</th>\n",
       "      <td>15.000100</td>\n",
       "      <td>52.000000</td>\n",
       "      <td>141.909091</td>\n",
       "      <td>34.066667</td>\n",
       "      <td>35682.000000</td>\n",
       "      <td>1243.333333</td>\n",
       "      <td>41.950000</td>\n",
       "      <td>-114.310000</td>\n",
       "    </tr>\n",
       "  </tbody>\n",
       "</table>\n",
       "</div>"
      ],
      "text/plain": [
       "       Mediana ingresos  Mediana antiguedad  Num. hab. promedio  \\\n",
       "count      20640.000000        20640.000000        20640.000000   \n",
       "mean           3.870671           28.639486            5.429000   \n",
       "std            1.899822           12.585558            2.474173   \n",
       "min            0.499900            1.000000            0.846154   \n",
       "25%            2.563400           18.000000            4.440716   \n",
       "50%            3.534800           29.000000            5.229129   \n",
       "75%            4.743250           37.000000            6.052381   \n",
       "max           15.000100           52.000000          141.909091   \n",
       "\n",
       "       Num. dorm. promedio     Poblacion  Ocup. promedio       Latitud  \\\n",
       "count         20640.000000  20640.000000    20640.000000  20640.000000   \n",
       "mean              1.096675   1425.476744        3.070655     35.631861   \n",
       "std               0.473911   1132.462122       10.386050      2.135952   \n",
       "min               0.333333      3.000000        0.692308     32.540000   \n",
       "25%               1.006079    787.000000        2.429741     33.930000   \n",
       "50%               1.048780   1166.000000        2.818116     34.260000   \n",
       "75%               1.099526   1725.000000        3.282261     37.710000   \n",
       "max              34.066667  35682.000000     1243.333333     41.950000   \n",
       "\n",
       "           Longitud  \n",
       "count  20640.000000  \n",
       "mean    -119.569704  \n",
       "std        2.003532  \n",
       "min     -124.350000  \n",
       "25%     -121.800000  \n",
       "50%     -118.490000  \n",
       "75%     -118.010000  \n",
       "max     -114.310000  "
      ]
     },
     "execution_count": 31,
     "metadata": {},
     "output_type": "execute_result"
    }
   ],
   "source": [
    "df.describe()"
   ]
  },
  {
   "cell_type": "code",
   "execution_count": 13,
   "metadata": {},
   "outputs": [],
   "source": [
    "X_train, X_test, y_train, y_test = train_test_split(X, y, test_size=0.5, random_state=9876)"
   ]
  },
  {
   "cell_type": "code",
   "execution_count": 14,
   "metadata": {},
   "outputs": [
    {
     "name": "stdout",
     "output_type": "stream",
     "text": [
      "Exactitud para k=1: 34.9\n",
      "Exactitud para k=2: 35.3\n",
      "Exactitud para k=3: 34.6\n",
      "Exactitud para k=4: 36.3\n",
      "Exactitud para k=5: 37.0\n",
      "Exactitud para k=6: 37.1\n",
      "Exactitud para k=7: 37.2\n",
      "Exactitud para k=8: 37.7\n",
      "Exactitud para k=9: 38.0\n",
      "Exactitud para k=10: 38.1\n"
     ]
    }
   ],
   "source": [
    "for k in range(1,11):\n",
    "    knn = KNeighborsClassifier(n_neighbors=k)\n",
    "    knn.fit(X_train, y_train)\n",
    "    y_pred = knn.predict(X_test)\n",
    "    exactitud = accuracy_score(y_test, y_pred)\n",
    "    print(f'Exactitud para k={k}: {exactitud*100:.1f}')  "
   ]
  },
  {
   "cell_type": "markdown",
   "metadata": {},
   "source": [
    "los rangos para las diferentes características varían mucho entre sí y eso es un problema para el KNN y en esos casos es mejor llevar todas las características a un rango igual."
   ]
  },
  {
   "cell_type": "code",
   "execution_count": 15,
   "metadata": {},
   "outputs": [],
   "source": [
    "esc = MinMaxScaler()\n",
    "esc.fit(X_train)\n",
    "X_train_esc = esc.transform(X_train)\n",
    "X_test_esc = esc.transform(X_test)"
   ]
  },
  {
   "cell_type": "code",
   "execution_count": 16,
   "metadata": {},
   "outputs": [
    {
     "name": "stdout",
     "output_type": "stream",
     "text": [
      "Exactitud para k=1: 57.4\n",
      "Exactitud para k=2: 57.1\n",
      "Exactitud para k=3: 60.2\n",
      "Exactitud para k=4: 60.8\n",
      "Exactitud para k=5: 61.4\n",
      "Exactitud para k=6: 61.8\n",
      "Exactitud para k=7: 62.0\n",
      "Exactitud para k=8: 62.0\n",
      "Exactitud para k=9: 62.0\n",
      "Exactitud para k=10: 62.2\n"
     ]
    }
   ],
   "source": [
    "for k in range(1,11):\n",
    "    knn = KNeighborsClassifier(n_neighbors=k, algorithm='brute')\n",
    "    knn.fit(X_train_esc, y_train)\n",
    "    y_pred = knn.predict(X_test_esc)\n",
    "    exactitud = accuracy_score(y_test, y_pred)\n",
    "    print(f'Exactitud para k={k}: {exactitud*100:.1f}')    "
   ]
  },
  {
   "cell_type": "markdown",
   "metadata": {},
   "source": [
    "## Ponderación por la distancia\n",
    "\n",
    "Un argumento de la clase es el método de ponderación de los vecinos, así el argumento 'weights' indica si el voto de cada vecino se pondera por la distancia ('distance') o no ('uniform'),"
   ]
  },
  {
   "cell_type": "code",
   "execution_count": 17,
   "metadata": {},
   "outputs": [
    {
     "name": "stdout",
     "output_type": "stream",
     "text": [
      "Tiempo total 32\n",
      "Exactitud para k=1: 17.7\n",
      "Tiempo total 32\n",
      "Exactitud para k=2: 17.7\n",
      "Tiempo total 31\n",
      "Exactitud para k=3: 17.7\n",
      "Tiempo total 32\n",
      "Exactitud para k=4: 23.8\n"
     ]
    }
   ],
   "source": [
    "for k in range(1,5):\n",
    "    knn = KNeighborsClassifier(n_neighbors=k, weights='distance')\n",
    "    t1 = time()\n",
    "    knn.fit(X_train, y_train)\n",
    "    y_pred = knn.predict(X_test_esc)\n",
    "    t2 = time()\n",
    "    exactitud = accuracy_score(y_test, y_pred)\n",
    "    print(f'Tiempo total {(t2-t1)*1000:.0f}')\n",
    "    print(f'Exactitud para k={k}: {exactitud*100:.1f}')"
   ]
  },
  {
   "cell_type": "code",
   "execution_count": 18,
   "metadata": {},
   "outputs": [
    {
     "name": "stdout",
     "output_type": "stream",
     "text": [
      "Tiempo total 143\n",
      "Exactitud para k=1: 40.1\n",
      "Tiempo total 174\n",
      "Exactitud para k=2: 40.2\n",
      "Tiempo total 195\n",
      "Exactitud para k=3: 40.1\n",
      "Tiempo total 227\n",
      "Exactitud para k=4: 40.1\n"
     ]
    }
   ],
   "source": [
    "for k in range(1,5):\n",
    "    knn = KNeighborsClassifier(n_neighbors=k, weights='uniform')\n",
    "    t1 = time()\n",
    "    knn.fit(X_train_esc, y_train)\n",
    "    y_pred = knn.predict(X_test)\n",
    "    t2 = time()\n",
    "    exactitud = accuracy_score(y_test, y_pred)\n",
    "    print(f'Tiempo total {(t2-t1)*1000:.0f}')\n",
    "    print(f'Exactitud para k={k}: {exactitud*100:.1f}')"
   ]
  },
  {
   "cell_type": "markdown",
   "metadata": {},
   "source": [
    "## Método de búsqueda de los vecinos.\n",
    "\n",
    "Uno de los argumentos clave de la clase `KNeighborsClassifier` (o `KNeighborsRegressor`) en `scikit-learn` es el parámetro `algorithm`, que especifica el método que se utilizará para buscar los vecinos más cercanos. Los valores posibles son:\n",
    "\n",
    "- `'ball_tree'`\n",
    "- `'kd_tree'`\n",
    "- `'brute'`\n",
    "\n",
    "### ¿Qué hace cada método?\n",
    "\n",
    "- **KD Tree**  \n",
    "  El KD Tree (*K-Dimensional Tree*) es una estructura de árbol binario que organiza los puntos en un espacio de k dimensiones. Es muy eficiente para búsquedas de vecinos más cercanos y consultas por rangos cuando el número de características (dimensiones) es pequeño en relación con el número de muestras.\n",
    "\n",
    "- **Ball Tree**  \n",
    "  El Ball Tree organiza los puntos en una jerarquía de hiperesferas anidadas. Es más adecuado para espacios de alta dimensión, donde el rendimiento del KD Tree tiende a degradarse.\n",
    "\n",
    "- **Brute**  \n",
    "  Realiza una búsqueda exhaustiva comparando directamente la distancia entre el punto de consulta y todos los puntos de entrenamiento. Es simple pero puede ser computacionalmente costoso para grandes volúmenes de datos.\n",
    "\n",
    "### Experimento propuesto\n",
    "\n",
    "Vamos a comprobar cómo afecta el método de búsqueda al **tiempo de ejecución** del algoritmo.\n",
    "\n",
    "1. Usa el conjunto completo de características para entrenar y predecir con cada método (`ball_tree`, `kd_tree`, `brute`).\n",
    "2. Luego, reduce el número de características a 10 y repite el experimento.\n",
    "3. Utiliza la función `time()` del módulo `time` para medir la duración de cada ejecución:\n",
    "   ```python\n",
    "   from time import time\n",
    "\n",
    "   inicio = time()\n",
    "   # código que quieres medir\n",
    "   fin = time()\n",
    "   duracion = fin - inicio\n",
    "   ```\n",
    "\n",
    "### ✅ Conclusión esperada\n",
    "\n",
    "- `kd_tree` debería mostrar mejor rendimiento cuando el número de características es pequeño.\n",
    "- `ball_tree` podría funcionar mejor en espacios de alta dimensión.\n",
    "- `brute` servirá como referencia base, pero probablemente será más lento para datasets grandes."
   ]
  },
  {
   "cell_type": "code",
   "execution_count": 70,
   "metadata": {},
   "outputs": [],
   "source": [
    "df = pd.read_csv('datos/CelebA-2K.csv')\n",
    "X = df.iloc[:, 2:].values\n",
    "y = df.iloc[:, 1].values\n"
   ]
  },
  {
   "cell_type": "code",
   "execution_count": 71,
   "metadata": {},
   "outputs": [],
   "source": [
    "X_train, X_test, y_train, y_test = train_test_split(X, y, test_size=0.2, random_state=9876)"
   ]
  },
  {
   "cell_type": "code",
   "execution_count": 72,
   "metadata": {},
   "outputs": [
    {
     "name": "stdout",
     "output_type": "stream",
     "text": [
      "Exactitud para k=1: 82.2\n",
      "Tiempo total 6.39 ms\n",
      "\n",
      "Exactitud para k=2: 75.5\n",
      "Tiempo total 5.71 ms\n",
      "\n",
      "Exactitud para k=3: 79.2\n",
      "Tiempo total 6.08 ms\n",
      "\n",
      "Exactitud para k=4: 75.5\n",
      "Tiempo total 5.44 ms\n",
      "\n",
      "Exactitud para k=5: 78.8\n",
      "Tiempo total 3.47 ms\n",
      "\n"
     ]
    }
   ],
   "source": [
    "from time import time\n",
    "for k in range(1,6):\n",
    "    knn = KNeighborsClassifier(n_neighbors=k, algorithm='brute', n_jobs=1) # n_jobs=n para usar n hilos\n",
    "    knn.fit(X_train, y_train)\n",
    "    t1 = time() # tiempo de inicio (segundos)\n",
    "    y_pred = knn.predict(X_test)\n",
    "    t2 = time() # tiempo de fin (segundos)\n",
    "    exactitud = accuracy_score(y_test, y_pred)\n",
    "    print(f'Exactitud para k={k}: {exactitud*100:.1f}')\n",
    "    print(f'Tiempo total {(t2-t1)*1000:.2f} ms') # tiempo total en ms se restando el tiempo de inicio al tiempo de fin \n",
    "    print()"
   ]
  },
  {
   "cell_type": "markdown",
   "metadata": {},
   "source": [
    "Repetir el código anterior utilizando solo 10 atributos en lugar de los 512 y ver cómo afecta a la tasa de acierto y al tiempo"
   ]
  },
  {
   "cell_type": "markdown",
   "metadata": {},
   "source": [
    "## Clasificación por menor distancia al centroide\n",
    "\n",
    "Es un caso particular del vecino más próximo, donde cada clase en lugar de estar definida por todas las muestras que la componen, se considera representada por su centroide"
   ]
  },
  {
   "cell_type": "code",
   "execution_count": 23,
   "metadata": {},
   "outputs": [],
   "source": [
    "df = pd.read_csv('datos/CelebA-2K.csv')\n",
    "X = df.iloc[:, 2:].values\n",
    "y = df.iloc[:, 1].values\n",
    "X_train, X_test, y_train, y_test = train_test_split(X, y, test_size=0.2, random_state=9876)"
   ]
  },
  {
   "cell_type": "code",
   "execution_count": 24,
   "metadata": {},
   "outputs": [
    {
     "data": {
      "text/html": [
       "<div>\n",
       "<style scoped>\n",
       "    .dataframe tbody tr th:only-of-type {\n",
       "        vertical-align: middle;\n",
       "    }\n",
       "\n",
       "    .dataframe tbody tr th {\n",
       "        vertical-align: top;\n",
       "    }\n",
       "\n",
       "    .dataframe thead th {\n",
       "        text-align: right;\n",
       "    }\n",
       "</style>\n",
       "<table border=\"1\" class=\"dataframe\">\n",
       "  <thead>\n",
       "    <tr style=\"text-align: right;\">\n",
       "      <th></th>\n",
       "      <th>Image_name</th>\n",
       "      <th>Gender</th>\n",
       "      <th>0</th>\n",
       "      <th>1</th>\n",
       "      <th>2</th>\n",
       "      <th>3</th>\n",
       "      <th>4</th>\n",
       "      <th>5</th>\n",
       "      <th>6</th>\n",
       "      <th>7</th>\n",
       "      <th>...</th>\n",
       "      <th>502</th>\n",
       "      <th>503</th>\n",
       "      <th>504</th>\n",
       "      <th>505</th>\n",
       "      <th>506</th>\n",
       "      <th>507</th>\n",
       "      <th>508</th>\n",
       "      <th>509</th>\n",
       "      <th>510</th>\n",
       "      <th>511</th>\n",
       "    </tr>\n",
       "  </thead>\n",
       "  <tbody>\n",
       "    <tr>\n",
       "      <th>0</th>\n",
       "      <td>007860.jpg</td>\n",
       "      <td>female</td>\n",
       "      <td>-0.016834</td>\n",
       "      <td>-0.062534</td>\n",
       "      <td>0.101955</td>\n",
       "      <td>0.004554</td>\n",
       "      <td>0.050818</td>\n",
       "      <td>0.047877</td>\n",
       "      <td>0.070482</td>\n",
       "      <td>0.056343</td>\n",
       "      <td>...</td>\n",
       "      <td>0.013890</td>\n",
       "      <td>0.078601</td>\n",
       "      <td>-0.247111</td>\n",
       "      <td>-0.100739</td>\n",
       "      <td>0.224464</td>\n",
       "      <td>-0.102820</td>\n",
       "      <td>-0.009611</td>\n",
       "      <td>0.344431</td>\n",
       "      <td>0.064374</td>\n",
       "      <td>-0.301434</td>\n",
       "    </tr>\n",
       "    <tr>\n",
       "      <th>1</th>\n",
       "      <td>030843.jpg</td>\n",
       "      <td>male</td>\n",
       "      <td>-0.149386</td>\n",
       "      <td>0.023499</td>\n",
       "      <td>-0.022406</td>\n",
       "      <td>-0.371659</td>\n",
       "      <td>-0.017986</td>\n",
       "      <td>0.059615</td>\n",
       "      <td>-0.042921</td>\n",
       "      <td>0.307462</td>\n",
       "      <td>...</td>\n",
       "      <td>-0.132371</td>\n",
       "      <td>0.042126</td>\n",
       "      <td>0.183425</td>\n",
       "      <td>-0.054782</td>\n",
       "      <td>0.058116</td>\n",
       "      <td>-0.050658</td>\n",
       "      <td>0.099573</td>\n",
       "      <td>-0.254414</td>\n",
       "      <td>-0.122828</td>\n",
       "      <td>-0.038909</td>\n",
       "    </tr>\n",
       "    <tr>\n",
       "      <th>2</th>\n",
       "      <td>132520.jpg</td>\n",
       "      <td>female</td>\n",
       "      <td>-0.191758</td>\n",
       "      <td>0.044767</td>\n",
       "      <td>0.000783</td>\n",
       "      <td>-0.159277</td>\n",
       "      <td>-0.084368</td>\n",
       "      <td>-0.026233</td>\n",
       "      <td>-0.059885</td>\n",
       "      <td>0.061149</td>\n",
       "      <td>...</td>\n",
       "      <td>-0.345836</td>\n",
       "      <td>-0.053696</td>\n",
       "      <td>0.038794</td>\n",
       "      <td>-0.065643</td>\n",
       "      <td>-0.007551</td>\n",
       "      <td>0.072963</td>\n",
       "      <td>0.117631</td>\n",
       "      <td>-0.070761</td>\n",
       "      <td>0.287525</td>\n",
       "      <td>0.110923</td>\n",
       "    </tr>\n",
       "    <tr>\n",
       "      <th>3</th>\n",
       "      <td>137752.jpg</td>\n",
       "      <td>female</td>\n",
       "      <td>0.014032</td>\n",
       "      <td>-0.130890</td>\n",
       "      <td>0.116910</td>\n",
       "      <td>-0.072261</td>\n",
       "      <td>-0.049759</td>\n",
       "      <td>0.061924</td>\n",
       "      <td>-0.080427</td>\n",
       "      <td>0.131771</td>\n",
       "      <td>...</td>\n",
       "      <td>-0.140629</td>\n",
       "      <td>-0.224949</td>\n",
       "      <td>0.059399</td>\n",
       "      <td>-0.099826</td>\n",
       "      <td>0.149311</td>\n",
       "      <td>0.121945</td>\n",
       "      <td>-0.188849</td>\n",
       "      <td>0.029124</td>\n",
       "      <td>0.280946</td>\n",
       "      <td>-0.055805</td>\n",
       "    </tr>\n",
       "    <tr>\n",
       "      <th>4</th>\n",
       "      <td>130923.jpg</td>\n",
       "      <td>male</td>\n",
       "      <td>-0.065040</td>\n",
       "      <td>0.043058</td>\n",
       "      <td>-0.052331</td>\n",
       "      <td>-0.059201</td>\n",
       "      <td>0.004073</td>\n",
       "      <td>-0.023656</td>\n",
       "      <td>0.037980</td>\n",
       "      <td>-0.200148</td>\n",
       "      <td>...</td>\n",
       "      <td>-0.394548</td>\n",
       "      <td>-0.107647</td>\n",
       "      <td>-0.015594</td>\n",
       "      <td>0.218428</td>\n",
       "      <td>-0.178155</td>\n",
       "      <td>-0.146005</td>\n",
       "      <td>0.088374</td>\n",
       "      <td>-0.093011</td>\n",
       "      <td>0.304159</td>\n",
       "      <td>-0.079711</td>\n",
       "    </tr>\n",
       "  </tbody>\n",
       "</table>\n",
       "<p>5 rows × 514 columns</p>\n",
       "</div>"
      ],
      "text/plain": [
       "   Image_name  Gender         0         1         2         3         4  \\\n",
       "0  007860.jpg  female -0.016834 -0.062534  0.101955  0.004554  0.050818   \n",
       "1  030843.jpg    male -0.149386  0.023499 -0.022406 -0.371659 -0.017986   \n",
       "2  132520.jpg  female -0.191758  0.044767  0.000783 -0.159277 -0.084368   \n",
       "3  137752.jpg  female  0.014032 -0.130890  0.116910 -0.072261 -0.049759   \n",
       "4  130923.jpg    male -0.065040  0.043058 -0.052331 -0.059201  0.004073   \n",
       "\n",
       "          5         6         7  ...       502       503       504       505  \\\n",
       "0  0.047877  0.070482  0.056343  ...  0.013890  0.078601 -0.247111 -0.100739   \n",
       "1  0.059615 -0.042921  0.307462  ... -0.132371  0.042126  0.183425 -0.054782   \n",
       "2 -0.026233 -0.059885  0.061149  ... -0.345836 -0.053696  0.038794 -0.065643   \n",
       "3  0.061924 -0.080427  0.131771  ... -0.140629 -0.224949  0.059399 -0.099826   \n",
       "4 -0.023656  0.037980 -0.200148  ... -0.394548 -0.107647 -0.015594  0.218428   \n",
       "\n",
       "        506       507       508       509       510       511  \n",
       "0  0.224464 -0.102820 -0.009611  0.344431  0.064374 -0.301434  \n",
       "1  0.058116 -0.050658  0.099573 -0.254414 -0.122828 -0.038909  \n",
       "2 -0.007551  0.072963  0.117631 -0.070761  0.287525  0.110923  \n",
       "3  0.149311  0.121945 -0.188849  0.029124  0.280946 -0.055805  \n",
       "4 -0.178155 -0.146005  0.088374 -0.093011  0.304159 -0.079711  \n",
       "\n",
       "[5 rows x 514 columns]"
      ]
     },
     "execution_count": 24,
     "metadata": {},
     "output_type": "execute_result"
    }
   ],
   "source": [
    "df.head()"
   ]
  },
  {
   "cell_type": "code",
   "execution_count": 25,
   "metadata": {},
   "outputs": [],
   "source": [
    "esc = MinMaxScaler()\n",
    "esc.fit(X_train)\n",
    "X_train_esc = esc.transform(X_train)\n",
    "X_test_esc = esc.transform(X_test)"
   ]
  },
  {
   "cell_type": "markdown",
   "metadata": {},
   "source": [
    "**KNN normal**"
   ]
  },
  {
   "cell_type": "code",
   "execution_count": 32,
   "metadata": {},
   "outputs": [
    {
     "name": "stdout",
     "output_type": "stream",
     "text": [
      "Exactitud: 80.0\n",
      "Tiempo total: 5.19 ms\n"
     ]
    }
   ],
   "source": [
    "knn = KNeighborsClassifier(n_neighbors=5, algorithm='brute')\n",
    "knn.fit(X_train_esc, y_train)\n",
    "t1 = time()\n",
    "y_pred = knn.predict(X_test_esc)\n",
    "t2 = time()\n",
    "print('Exactitud:', accuracy_score(y_test, y_pred)*100)\n",
    "print(f'Tiempo total: {(t2-t1)*1000:.2f} ms')"
   ]
  },
  {
   "cell_type": "markdown",
   "metadata": {},
   "source": [
    "**KNN usando centroides**\n",
    "\n",
    "Un centroide es la media de todas las muestras por clase"
   ]
  },
  {
   "cell_type": "code",
   "execution_count": 27,
   "metadata": {},
   "outputs": [
    {
     "name": "stdout",
     "output_type": "stream",
     "text": [
      "[[0.4705327  0.51879143 0.43215933 ... 0.50112531 0.51032553 0.69255369]\n",
      " [0.47915907 0.50687857 0.47048945 ... 0.48026916 0.49615615 0.69763947]]\n"
     ]
    }
   ],
   "source": [
    "clases = np.unique(y_train)\n",
    "n_clases = len(clases)\n",
    "centroides = np.zeros((n_clases, X.shape[1]))\n",
    "for idx, clase in enumerate(clases):\n",
    "    X_clase = X_train_esc[y_train==clase]\n",
    "    centroides[idx] = np.mean(X_clase, axis=0)\n",
    "print(centroides)"
   ]
  },
  {
   "cell_type": "code",
   "execution_count": 33,
   "metadata": {},
   "outputs": [
    {
     "name": "stdout",
     "output_type": "stream",
     "text": [
      "Exactitud: 81.0\n",
      "Tiempo total: 1.20 ms\n"
     ]
    }
   ],
   "source": [
    "knn = KNeighborsClassifier(n_neighbors=1) # Ojo! suele ser mejor usar k=1\n",
    "knn.fit(centroides, clases)\n",
    "t1 = time()\n",
    "y_pred = knn.predict(X_test_esc)\n",
    "t2 = time()\n",
    "exactitud = accuracy_score(y_test, y_pred)\n",
    "print(f'Exactitud: {exactitud*100:.1f}')\n",
    "print(f'Tiempo total: {(t2-t1)*1000:.2f} ms')"
   ]
  },
  {
   "cell_type": "markdown",
   "metadata": {},
   "source": [
    "## Ejercicios"
   ]
  },
  {
   "cell_type": "markdown",
   "metadata": {},
   "source": [
    "1. Leer el dataset de precios de casas, normaliza y dividelo en train y test. (80% - 20%)"
   ]
  },
  {
   "cell_type": "code",
   "execution_count": null,
   "metadata": {},
   "outputs": [],
   "source": [
    "import pandas as pd\n",
    "from sklearn.model_selection import train_test_split\n",
    "from sklearn.preprocessing import MinMaxScaler\n",
    "from sklearn.neighbors import KNeighborsClassifier\n",
    "from sklearn.metrics import accuracy_score\n",
    "\n",
    "# Cargar datos\n",
    "df = pd.read_csv(\"datos/precio_casas_clasificacion.csv\")\n",
    "\n",
    "# Separar variables y etiquetas\n",
    "X = df.drop(columns='Precio')\n",
    "y = df['Precio']\n",
    "\n",
    "# Normalización\n",
    "scaler = MinMaxScaler()\n",
    "X_scaled = scaler.fit_transform(X)\n",
    "\n",
    "# División en entrenamiento y test (80/20)\n",
    "X_train, X_test, y_train, y_test = train_test_split(X_scaled, y, test_size=0.2, random_state=42)"
   ]
  },
  {
   "cell_type": "markdown",
   "metadata": {},
   "source": [
    "2. Medir el tiempo de entrenamiento y test para los métodos `ball_tree`, `kd_tree` y `brute` del KNN usando el conjunto completo de características con jobs = 1.\n",
    "    - ¿Hay diferencias significativas en el tiempo de ejecución entre los métodos?"
   ]
  },
  {
   "cell_type": "code",
   "execution_count": null,
   "metadata": {},
   "outputs": [],
   "source": [
    "import time\n",
    "\n",
    "# Métodos a evaluar\n",
    "algorithms = ['ball_tree', 'kd_tree', 'brute']\n",
    "tiempos_resultados = {}\n",
    "\n",
    "for algo in algorithms:\n",
    "    knn = KNeighborsClassifier(algorithm=algo, n_neighbors=5, n_jobs=1)\n",
    "\n",
    "    # Medir tiempo de entrenamiento\n",
    "    t0 = time.time()\n",
    "    knn.fit(X_train, y_train)\n",
    "    t_entrenamiento = time.time() - t0\n",
    "\n",
    "    # Medir tiempo de predicción\n",
    "    t1 = time.time()\n",
    "    y_pred = knn.predict(X_test)\n",
    "    t_test = time.time() - t1\n",
    "\n",
    "    acc = accuracy_score(y_test, y_pred)\n",
    "    \n",
    "    tiempos_resultados[algo] = {\n",
    "        'tiempo_entrenamiento': t_entrenamiento,\n",
    "        'tiempo_test': t_test,\n",
    "        'accuracy': acc\n",
    "    }"
   ]
  },
  {
   "cell_type": "markdown",
   "metadata": {},
   "source": [
    "3. Repetir el experimento anterior pero usando solo 5 características."
   ]
  },
  {
   "cell_type": "code",
   "execution_count": null,
   "metadata": {},
   "outputs": [],
   "source": [
    "# Cargar el dataset original\n",
    "df = pd.read_csv(\"datos/precio_casas_clasificacion.csv\")\n",
    "\n",
    "# Separar variables y etiquetas\n",
    "X = df.drop(columns='Precio')\n",
    "y = df['Precio']\n",
    "\n",
    "# Normalizar solo las primeras 5 características\n",
    "scaler = MinMaxScaler()\n",
    "X_5feat = X.iloc[:, :5]\n",
    "X_5feat_scaled = scaler.fit_transform(X_5feat)\n",
    "\n",
    "# Dividir en entrenamiento y test\n",
    "X_train_5, X_test_5, y_train_5, y_test_5 = train_test_split(X_5feat_scaled, y, test_size=0.2, random_state=42)\n",
    "\n",
    "# Algoritmos a comparar\n",
    "algorithms = ['ball_tree', 'kd_tree', 'brute']\n",
    "tiempos_resultados_5feat = {}\n",
    "\n",
    "# Medir tiempos y precisión para cada algoritmo con 5 características\n",
    "for algo in algorithms:\n",
    "    knn = KNeighborsClassifier(algorithm=algo, n_neighbors=5, n_jobs=1)\n",
    "\n",
    "    # Tiempo de entrenamiento\n",
    "    t0 = time.time()\n",
    "    knn.fit(X_train_5, y_train_5)\n",
    "    t_entrenamiento = time.time() - t0\n",
    "\n",
    "    # Tiempo de test\n",
    "    t1 = time.time()\n",
    "    y_pred = knn.predict(X_test_5)\n",
    "    t_test = time.time() - t1\n",
    "\n",
    "    acc = accuracy_score(y_test_5, y_pred)\n",
    "\n",
    "    tiempos_resultados_5feat[algo] = {\n",
    "        'tiempo_entrenamiento': t_entrenamiento,\n",
    "        'tiempo_test': t_test,\n",
    "        'accuracy': acc\n",
    "    }"
   ]
  },
  {
   "cell_type": "markdown",
   "metadata": {},
   "source": [
    "4. Medir el tiempo de entrenamiento y test para los métodos `ball_tree`, `kd_tree` y `brute` del KNN usando el conjunto completo de características con jobs = -1.\n",
    "    - ¿Hay diferencias significativas en el tiempo de ejecución entre los métodos?"
   ]
  },
  {
   "cell_type": "code",
   "execution_count": null,
   "metadata": {},
   "outputs": [],
   "source": [
    "# los mismo pero usando jobs=-1"
   ]
  },
  {
   "cell_type": "markdown",
   "metadata": {},
   "source": [
    "5. Entrenar un percetrón y un clasificador basado en regresión logística y comparar los resultados con el KNN. Compara tus resultados con tus compañeros. A ver quién es el que mejor clasifica.\n",
    " Puedes hacer lo siguiente:\n",
    " - Cambiar el número de vecinos\n",
    " - Cambiar el método de búsqueda\n",
    " - Cambiar el método de ponderación\n",
    " - Normalizar o no normalizar\n",
    " - Cambiar el porcentaje de train y test\n",
    " - Usar KNN normal o KNN con centroides\n",
    " - etc..\n",
    "\n",
    "## Referencias\n",
    "- [KNeighborsClassifier](https://scikit-learn.org/stable/modules/generated/sklearn.neighbors.KNeighborsClassifier.html)\n",
    "- [LogisticRegression](https://scikit-learn.org/stable/modules/generated/sklearn.linear_model.LogisticRegression.html)\n",
    "- [Perceptron](https://scikit-learn.org/stable/modules/generated/sklearn.linear_model.Perceptron.html)"
   ]
  },
  {
   "cell_type": "code",
   "execution_count": null,
   "metadata": {},
   "outputs": [],
   "source": []
  }
 ],
 "metadata": {
  "kernelspec": {
   "display_name": "aa1",
   "language": "python",
   "name": "python3"
  },
  "language_info": {
   "codemirror_mode": {
    "name": "ipython",
    "version": 3
   },
   "file_extension": ".py",
   "mimetype": "text/x-python",
   "name": "python",
   "nbconvert_exporter": "python",
   "pygments_lexer": "ipython3",
   "version": "3.10.16"
  }
 },
 "nbformat": 4,
 "nbformat_minor": 2
}
